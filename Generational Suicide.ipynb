{
 "cells": [
  {
   "cell_type": "markdown",
   "metadata": {},
   "source": [
    "# <b> Generational suicide in South Africa From 1987 - 2015 </b>"
   ]
  },
  {
   "cell_type": "markdown",
   "metadata": {},
   "source": [
    "---"
   ]
  },
  {
   "cell_type": "markdown",
   "metadata": {},
   "source": [
    "### The following dataset was collected from Kaggle and it tabulates suicide deaths from 101 countries around the world. I decided to narrow down the results and focus solely on my country of origin to see if I could find any patterns in the data and to see how we as a country compare to the rest of the world.\n",
    "\n",
    "### I hope you enjoy this analysis and know that your feedback is very welcome."
   ]
  },
  {
   "cell_type": "markdown",
   "metadata": {},
   "source": [
    "---"
   ]
  },
  {
   "cell_type": "markdown",
   "metadata": {},
   "source": [
    "##  The Dataset"
   ]
  },
  {
   "cell_type": "markdown",
   "metadata": {},
   "source": [
    "###  Categorical Variables:\n",
    "\n",
    "#### <b>1) Country : </b>  There's a total of 195 countries in the world today, so we can see that the sample we have here represents just below 52% of the total world population. Many Asian and African countries are excluded from the dataset which makes the dataset slight biased for a worldwide analysis, hence my decision to focus only on SA.\n",
    "\n",
    "#### <b> 2) Year:</b> The years are from 1987 - 2016. The year 2016 was excluded from the analysis because the data for that year was incomplete.\n",
    "\n",
    "#### <b> 3) Sex/Gender :</b> Male and Female\n",
    "\n",
    "#### <b> 4) Age:</b> The ages of the individuals are separated into five age intervals\n",
    "\n",
    "#### <b> 5) Generation:</b> There are six generations included in this dataset\n",
    "\n"
   ]
  },
  {
   "cell_type": "markdown",
   "metadata": {},
   "source": [
    "###  Numerical Variables:"
   ]
  },
  {
   "cell_type": "markdown",
   "metadata": {},
   "source": [
    "#### <b>1) Population: </b> A number of the people in each geographic sample\n",
    "\n",
    "#### <b>2) Number of Suicides:</b> The total number of suicides reported in each geographic sample\n",
    "\n",
    "#### <b>3) Suicides per 100k:</b>  They calculated this by dividing the number of suicides with the population and multiplying it by 100 000.\n",
    "\n",
    "#### <b>4) GDP for year :</b> GDP is measured as the total or final value of all the goods and services a country produces each year\n",
    "\n",
    "#### <b>5) GDP per capita :</b>  GDP on its own does not take the \"living standards\" of the country into account, whereas GDP per capita does. and it's calculated as GDP/population\n",
    "\n",
    "#### <b> 6) HDI for year :</b>  Human Development Index, it's an index that measures the life expectancy, education and income of the population for the year\n"
   ]
  },
  {
   "cell_type": "markdown",
   "metadata": {},
   "source": [
    "---"
   ]
  },
  {
   "cell_type": "markdown",
   "metadata": {},
   "source": [
    "## Now I'll import the data and proceed with data wrangling and data mining to clean and gather insights from the data respectively.\n"
   ]
  },
  {
   "cell_type": "code",
   "execution_count": 177,
   "metadata": {},
   "outputs": [],
   "source": [
    "import pandas as pd\n",
    "import numpy as np \n",
    "import seaborn as sns\n",
    "sns.set()\n",
    "import matplotlib.pyplot as plt\n",
    "\n",
    "\n",
    "%matplotlib inline"
   ]
  },
  {
   "cell_type": "code",
   "execution_count": 178,
   "metadata": {},
   "outputs": [],
   "source": [
    "df = pd.read_csv('master.csv') #Importing the dataset from my local machine into a pandas dataframe"
   ]
  },
  {
   "cell_type": "code",
   "execution_count": 179,
   "metadata": {},
   "outputs": [
    {
     "data": {
      "text/html": [
       "<div>\n",
       "<style scoped>\n",
       "    .dataframe tbody tr th:only-of-type {\n",
       "        vertical-align: middle;\n",
       "    }\n",
       "\n",
       "    .dataframe tbody tr th {\n",
       "        vertical-align: top;\n",
       "    }\n",
       "\n",
       "    .dataframe thead th {\n",
       "        text-align: right;\n",
       "    }\n",
       "</style>\n",
       "<table border=\"1\" class=\"dataframe\">\n",
       "  <thead>\n",
       "    <tr style=\"text-align: right;\">\n",
       "      <th></th>\n",
       "      <th>country</th>\n",
       "      <th>year</th>\n",
       "      <th>sex</th>\n",
       "      <th>age</th>\n",
       "      <th>suicides_no</th>\n",
       "      <th>population</th>\n",
       "      <th>suicides/100k pop</th>\n",
       "      <th>country-year</th>\n",
       "      <th>HDI for year</th>\n",
       "      <th>gdp_for_year ($)</th>\n",
       "      <th>gdp_per_capita ($)</th>\n",
       "      <th>generation</th>\n",
       "    </tr>\n",
       "  </thead>\n",
       "  <tbody>\n",
       "    <tr>\n",
       "      <th>0</th>\n",
       "      <td>Albania</td>\n",
       "      <td>1987</td>\n",
       "      <td>male</td>\n",
       "      <td>15-24 years</td>\n",
       "      <td>21</td>\n",
       "      <td>312900</td>\n",
       "      <td>6.71</td>\n",
       "      <td>Albania1987</td>\n",
       "      <td>NaN</td>\n",
       "      <td>2,156,624,900</td>\n",
       "      <td>796</td>\n",
       "      <td>Generation X</td>\n",
       "    </tr>\n",
       "    <tr>\n",
       "      <th>1</th>\n",
       "      <td>Albania</td>\n",
       "      <td>1987</td>\n",
       "      <td>male</td>\n",
       "      <td>35-54 years</td>\n",
       "      <td>16</td>\n",
       "      <td>308000</td>\n",
       "      <td>5.19</td>\n",
       "      <td>Albania1987</td>\n",
       "      <td>NaN</td>\n",
       "      <td>2,156,624,900</td>\n",
       "      <td>796</td>\n",
       "      <td>Silent</td>\n",
       "    </tr>\n",
       "    <tr>\n",
       "      <th>2</th>\n",
       "      <td>Albania</td>\n",
       "      <td>1987</td>\n",
       "      <td>female</td>\n",
       "      <td>15-24 years</td>\n",
       "      <td>14</td>\n",
       "      <td>289700</td>\n",
       "      <td>4.83</td>\n",
       "      <td>Albania1987</td>\n",
       "      <td>NaN</td>\n",
       "      <td>2,156,624,900</td>\n",
       "      <td>796</td>\n",
       "      <td>Generation X</td>\n",
       "    </tr>\n",
       "    <tr>\n",
       "      <th>3</th>\n",
       "      <td>Albania</td>\n",
       "      <td>1987</td>\n",
       "      <td>male</td>\n",
       "      <td>75+ years</td>\n",
       "      <td>1</td>\n",
       "      <td>21800</td>\n",
       "      <td>4.59</td>\n",
       "      <td>Albania1987</td>\n",
       "      <td>NaN</td>\n",
       "      <td>2,156,624,900</td>\n",
       "      <td>796</td>\n",
       "      <td>G.I. Generation</td>\n",
       "    </tr>\n",
       "    <tr>\n",
       "      <th>4</th>\n",
       "      <td>Albania</td>\n",
       "      <td>1987</td>\n",
       "      <td>male</td>\n",
       "      <td>25-34 years</td>\n",
       "      <td>9</td>\n",
       "      <td>274300</td>\n",
       "      <td>3.28</td>\n",
       "      <td>Albania1987</td>\n",
       "      <td>NaN</td>\n",
       "      <td>2,156,624,900</td>\n",
       "      <td>796</td>\n",
       "      <td>Boomers</td>\n",
       "    </tr>\n",
       "  </tbody>\n",
       "</table>\n",
       "</div>"
      ],
      "text/plain": [
       "   country  year     sex          age  suicides_no  population  \\\n",
       "0  Albania  1987    male  15-24 years           21      312900   \n",
       "1  Albania  1987    male  35-54 years           16      308000   \n",
       "2  Albania  1987  female  15-24 years           14      289700   \n",
       "3  Albania  1987    male    75+ years            1       21800   \n",
       "4  Albania  1987    male  25-34 years            9      274300   \n",
       "\n",
       "   suicides/100k pop country-year  HDI for year  gdp_for_year ($)   \\\n",
       "0               6.71  Albania1987           NaN      2,156,624,900   \n",
       "1               5.19  Albania1987           NaN      2,156,624,900   \n",
       "2               4.83  Albania1987           NaN      2,156,624,900   \n",
       "3               4.59  Albania1987           NaN      2,156,624,900   \n",
       "4               3.28  Albania1987           NaN      2,156,624,900   \n",
       "\n",
       "   gdp_per_capita ($)       generation  \n",
       "0                 796     Generation X  \n",
       "1                 796           Silent  \n",
       "2                 796     Generation X  \n",
       "3                 796  G.I. Generation  \n",
       "4                 796          Boomers  "
      ]
     },
     "execution_count": 179,
     "metadata": {},
     "output_type": "execute_result"
    }
   ],
   "source": [
    "df.head() # previewing the data to see what i'm dealing with"
   ]
  },
  {
   "cell_type": "code",
   "execution_count": 180,
   "metadata": {},
   "outputs": [
    {
     "data": {
      "text/plain": [
       "country                object\n",
       "year                    int64\n",
       "sex                    object\n",
       "age                    object\n",
       "suicides_no             int64\n",
       "population              int64\n",
       "suicides/100k pop     float64\n",
       "country-year           object\n",
       "HDI for year          float64\n",
       " gdp_for_year ($)      object\n",
       "gdp_per_capita ($)      int64\n",
       "generation             object\n",
       "dtype: object"
      ]
     },
     "execution_count": 180,
     "metadata": {},
     "output_type": "execute_result"
    }
   ],
   "source": [
    "df.dtypes #Checking the data types to see if they're in the correct fromat for me to be able to manipulate them."
   ]
  },
  {
   "cell_type": "markdown",
   "metadata": {},
   "source": [
    "#### From above I can see that gdp_for_year ($) is an object meaning a string value instead of being a float, the years' column is also an object instead of being DateTime.\n",
    "\n",
    "#### I will not change either of these columns datatypes because I will not be working with gdp_for_year, instead, I'll use gdp_per_capita because I believe I will give me better insights as it takes in factors such as living standards and it divides the GDP with the population's numbers. I will leave the date as an object for now and will alter its type if I see anything that'll require me to do so."
   ]
  },
  {
   "cell_type": "markdown",
   "metadata": {},
   "source": [
    "---"
   ]
  },
  {
   "cell_type": "code",
   "execution_count": 181,
   "metadata": {},
   "outputs": [
    {
     "data": {
      "text/plain": [
       "(country                   0\n",
       " year                      0\n",
       " sex                       0\n",
       " age                       0\n",
       " suicides_no               0\n",
       " population                0\n",
       " suicides/100k pop         0\n",
       " country-year              0\n",
       " HDI for year          19456\n",
       "  gdp_for_year ($)         0\n",
       " gdp_per_capita ($)        0\n",
       " generation                0\n",
       " dtype: int64, (27820, 12))"
      ]
     },
     "execution_count": 181,
     "metadata": {},
     "output_type": "execute_result"
    }
   ],
   "source": [
    "df.isnull().sum(),df.shape\n",
    "# checking to see if there are any missing values in my dataset"
   ]
  },
  {
   "cell_type": "markdown",
   "metadata": {},
   "source": [
    "#### HDI for year seems to have a very large number of missing values,  69.94% of the values are missing, and there's no sure way of fixing this issue. For this reason, I've decided to drop the entire column from my analysis and focus on the columns who's values are present in the dataset. "
   ]
  },
  {
   "cell_type": "code",
   "execution_count": 182,
   "metadata": {},
   "outputs": [],
   "source": [
    "df = df.drop([\"HDI for year\"], axis=1) # Removing the HDI from my analysis."
   ]
  },
  {
   "cell_type": "code",
   "execution_count": 183,
   "metadata": {},
   "outputs": [
    {
     "data": {
      "text/html": [
       "<div>\n",
       "<style scoped>\n",
       "    .dataframe tbody tr th:only-of-type {\n",
       "        vertical-align: middle;\n",
       "    }\n",
       "\n",
       "    .dataframe tbody tr th {\n",
       "        vertical-align: top;\n",
       "    }\n",
       "\n",
       "    .dataframe thead th {\n",
       "        text-align: right;\n",
       "    }\n",
       "</style>\n",
       "<table border=\"1\" class=\"dataframe\">\n",
       "  <thead>\n",
       "    <tr style=\"text-align: right;\">\n",
       "      <th></th>\n",
       "      <th>country</th>\n",
       "      <th>year</th>\n",
       "      <th>sex</th>\n",
       "      <th>age</th>\n",
       "      <th>suicides_no</th>\n",
       "      <th>population</th>\n",
       "      <th>suicides/100k pop</th>\n",
       "      <th>country-year</th>\n",
       "      <th>gdp_for_year ($)</th>\n",
       "      <th>gdp_per_capita ($)</th>\n",
       "      <th>generation</th>\n",
       "    </tr>\n",
       "  </thead>\n",
       "  <tbody>\n",
       "    <tr>\n",
       "      <th>0</th>\n",
       "      <td>Albania</td>\n",
       "      <td>1987</td>\n",
       "      <td>male</td>\n",
       "      <td>15-24 years</td>\n",
       "      <td>21</td>\n",
       "      <td>312900</td>\n",
       "      <td>6.71</td>\n",
       "      <td>Albania1987</td>\n",
       "      <td>2,156,624,900</td>\n",
       "      <td>796</td>\n",
       "      <td>Generation X</td>\n",
       "    </tr>\n",
       "    <tr>\n",
       "      <th>1</th>\n",
       "      <td>Albania</td>\n",
       "      <td>1987</td>\n",
       "      <td>male</td>\n",
       "      <td>35-54 years</td>\n",
       "      <td>16</td>\n",
       "      <td>308000</td>\n",
       "      <td>5.19</td>\n",
       "      <td>Albania1987</td>\n",
       "      <td>2,156,624,900</td>\n",
       "      <td>796</td>\n",
       "      <td>Silent</td>\n",
       "    </tr>\n",
       "  </tbody>\n",
       "</table>\n",
       "</div>"
      ],
      "text/plain": [
       "   country  year   sex          age  suicides_no  population  \\\n",
       "0  Albania  1987  male  15-24 years           21      312900   \n",
       "1  Albania  1987  male  35-54 years           16      308000   \n",
       "\n",
       "   suicides/100k pop country-year  gdp_for_year ($)   gdp_per_capita ($)  \\\n",
       "0               6.71  Albania1987      2,156,624,900                 796   \n",
       "1               5.19  Albania1987      2,156,624,900                 796   \n",
       "\n",
       "     generation  \n",
       "0  Generation X  \n",
       "1        Silent  "
      ]
     },
     "execution_count": 183,
     "metadata": {},
     "output_type": "execute_result"
    }
   ],
   "source": [
    "df.head(2)"
   ]
  },
  {
   "cell_type": "markdown",
   "metadata": {},
   "source": [
    "---"
   ]
  },
  {
   "cell_type": "markdown",
   "metadata": {},
   "source": [
    "#### Now that my dataset is clean, I can start zeroing down to the main focus of my analysis, South Africa. I'll extract only the South African rows and form a new dataset, thereafter I'll begin the Exploratory Data Analysis phase."
   ]
  },
  {
   "cell_type": "code",
   "execution_count": 184,
   "metadata": {},
   "outputs": [],
   "source": [
    "sa_df = df.loc[df['country']=='South Africa'] #Extracting the South African rows and cleaning the index\n",
    "sa_df.reset_index(drop=True,inplace=True)"
   ]
  },
  {
   "cell_type": "code",
   "execution_count": 185,
   "metadata": {},
   "outputs": [
    {
     "data": {
      "text/html": [
       "<div>\n",
       "<style scoped>\n",
       "    .dataframe tbody tr th:only-of-type {\n",
       "        vertical-align: middle;\n",
       "    }\n",
       "\n",
       "    .dataframe tbody tr th {\n",
       "        vertical-align: top;\n",
       "    }\n",
       "\n",
       "    .dataframe thead th {\n",
       "        text-align: right;\n",
       "    }\n",
       "</style>\n",
       "<table border=\"1\" class=\"dataframe\">\n",
       "  <thead>\n",
       "    <tr style=\"text-align: right;\">\n",
       "      <th></th>\n",
       "      <th>country</th>\n",
       "      <th>year</th>\n",
       "      <th>sex</th>\n",
       "      <th>age</th>\n",
       "      <th>suicides_no</th>\n",
       "      <th>population</th>\n",
       "      <th>suicides/100k pop</th>\n",
       "      <th>country-year</th>\n",
       "      <th>gdp_for_year ($)</th>\n",
       "      <th>gdp_per_capita ($)</th>\n",
       "      <th>generation</th>\n",
       "    </tr>\n",
       "  </thead>\n",
       "  <tbody>\n",
       "    <tr>\n",
       "      <th>237</th>\n",
       "      <td>South Africa</td>\n",
       "      <td>2015</td>\n",
       "      <td>female</td>\n",
       "      <td>55-74 years</td>\n",
       "      <td>10</td>\n",
       "      <td>3155486</td>\n",
       "      <td>0.32</td>\n",
       "      <td>South Africa2015</td>\n",
       "      <td>317,741,039,198</td>\n",
       "      <td>6403</td>\n",
       "      <td>Boomers</td>\n",
       "    </tr>\n",
       "    <tr>\n",
       "      <th>238</th>\n",
       "      <td>South Africa</td>\n",
       "      <td>2015</td>\n",
       "      <td>male</td>\n",
       "      <td>5-14 years</td>\n",
       "      <td>11</td>\n",
       "      <td>5318168</td>\n",
       "      <td>0.21</td>\n",
       "      <td>South Africa2015</td>\n",
       "      <td>317,741,039,198</td>\n",
       "      <td>6403</td>\n",
       "      <td>Generation Z</td>\n",
       "    </tr>\n",
       "    <tr>\n",
       "      <th>239</th>\n",
       "      <td>South Africa</td>\n",
       "      <td>2015</td>\n",
       "      <td>female</td>\n",
       "      <td>5-14 years</td>\n",
       "      <td>6</td>\n",
       "      <td>5243427</td>\n",
       "      <td>0.11</td>\n",
       "      <td>South Africa2015</td>\n",
       "      <td>317,741,039,198</td>\n",
       "      <td>6403</td>\n",
       "      <td>Generation Z</td>\n",
       "    </tr>\n",
       "  </tbody>\n",
       "</table>\n",
       "</div>"
      ],
      "text/plain": [
       "          country  year     sex          age  suicides_no  population  \\\n",
       "237  South Africa  2015  female  55-74 years           10     3155486   \n",
       "238  South Africa  2015    male   5-14 years           11     5318168   \n",
       "239  South Africa  2015  female   5-14 years            6     5243427   \n",
       "\n",
       "     suicides/100k pop      country-year  gdp_for_year ($)   \\\n",
       "237               0.32  South Africa2015    317,741,039,198   \n",
       "238               0.21  South Africa2015    317,741,039,198   \n",
       "239               0.11  South Africa2015    317,741,039,198   \n",
       "\n",
       "     gdp_per_capita ($)    generation  \n",
       "237                6403       Boomers  \n",
       "238                6403  Generation Z  \n",
       "239                6403  Generation Z  "
      ]
     },
     "execution_count": 185,
     "metadata": {},
     "output_type": "execute_result"
    }
   ],
   "source": [
    "sa_df.tail(3) #previewing the data"
   ]
  },
  {
   "cell_type": "code",
   "execution_count": 186,
   "metadata": {},
   "outputs": [
    {
     "data": {
      "text/plain": [
       "(240, 11)"
      ]
     },
     "execution_count": 186,
     "metadata": {},
     "output_type": "execute_result"
    }
   ],
   "source": [
    "sa_df.shape"
   ]
  },
  {
   "cell_type": "markdown",
   "metadata": {},
   "source": [
    "---"
   ]
  },
  {
   "cell_type": "markdown",
   "metadata": {},
   "source": [
    "#### Now I can start my analysis and create visuals to better illustrate and narrate the story of the data, and hopefully find out some interesting insights.\n",
    "\n",
    "#### I'll start by calculating the correlation between all my variables to see if any of them show any signs of a strong association."
   ]
  },
  {
   "cell_type": "code",
   "execution_count": 187,
   "metadata": {},
   "outputs": [
    {
     "data": {
      "text/html": [
       "<div>\n",
       "<style scoped>\n",
       "    .dataframe tbody tr th:only-of-type {\n",
       "        vertical-align: middle;\n",
       "    }\n",
       "\n",
       "    .dataframe tbody tr th {\n",
       "        vertical-align: top;\n",
       "    }\n",
       "\n",
       "    .dataframe thead th {\n",
       "        text-align: right;\n",
       "    }\n",
       "</style>\n",
       "<table border=\"1\" class=\"dataframe\">\n",
       "  <thead>\n",
       "    <tr style=\"text-align: right;\">\n",
       "      <th></th>\n",
       "      <th>year</th>\n",
       "      <th>suicides_no</th>\n",
       "      <th>population</th>\n",
       "      <th>suicides/100k pop</th>\n",
       "      <th>gdp_per_capita ($)</th>\n",
       "    </tr>\n",
       "  </thead>\n",
       "  <tbody>\n",
       "    <tr>\n",
       "      <th>suicides_no</th>\n",
       "      <td>0.264675</td>\n",
       "      <td>1.000000</td>\n",
       "      <td>0.381908</td>\n",
       "      <td>0.626058</td>\n",
       "      <td>0.217092</td>\n",
       "    </tr>\n",
       "    <tr>\n",
       "      <th>population</th>\n",
       "      <td>0.153660</td>\n",
       "      <td>0.381908</td>\n",
       "      <td>1.000000</td>\n",
       "      <td>-0.270459</td>\n",
       "      <td>0.129116</td>\n",
       "    </tr>\n",
       "    <tr>\n",
       "      <th>suicides/100k pop</th>\n",
       "      <td>0.183607</td>\n",
       "      <td>0.626058</td>\n",
       "      <td>-0.270459</td>\n",
       "      <td>1.000000</td>\n",
       "      <td>0.160792</td>\n",
       "    </tr>\n",
       "    <tr>\n",
       "      <th>gdp_per_capita ($)</th>\n",
       "      <td>0.861369</td>\n",
       "      <td>0.217092</td>\n",
       "      <td>0.129116</td>\n",
       "      <td>0.160792</td>\n",
       "      <td>1.000000</td>\n",
       "    </tr>\n",
       "  </tbody>\n",
       "</table>\n",
       "</div>"
      ],
      "text/plain": [
       "                        year  suicides_no  population  suicides/100k pop  \\\n",
       "suicides_no         0.264675     1.000000    0.381908           0.626058   \n",
       "population          0.153660     0.381908    1.000000          -0.270459   \n",
       "suicides/100k pop   0.183607     0.626058   -0.270459           1.000000   \n",
       "gdp_per_capita ($)  0.861369     0.217092    0.129116           0.160792   \n",
       "\n",
       "                    gdp_per_capita ($)  \n",
       "suicides_no                   0.217092  \n",
       "population                    0.129116  \n",
       "suicides/100k pop             0.160792  \n",
       "gdp_per_capita ($)            1.000000  "
      ]
     },
     "execution_count": 187,
     "metadata": {},
     "output_type": "execute_result"
    }
   ],
   "source": [
    "cor = sa_df.corr().loc['suicides_no':] # correlation between suicides and other numerical variables\n",
    "cor"
   ]
  },
  {
   "cell_type": "markdown",
   "metadata": {},
   "source": [
    "#### Judging by the results I got from the calculation, there seems to be no clear relationship between any of the variables. Specifically, there's nothing in the data that indicates a correlation between economic growth and suicidal deaths in South Africa, the two are almost independent of one another. Below you'll see a heatmap showing the results graphically."
   ]
  },
  {
   "cell_type": "code",
   "execution_count": 188,
   "metadata": {},
   "outputs": [
    {
     "data": {
      "text/plain": [
       "<matplotlib.axes._subplots.AxesSubplot at 0x7fc34baea3c8>"
      ]
     },
     "execution_count": 188,
     "metadata": {},
     "output_type": "execute_result"
    },
    {
     "data": {
      "image/png": "[encoded data removed]",
      "text/plain": [
       "<Figure size 432x288 with 2 Axes>"
      ]
     },
     "metadata": {
      "needs_background": "light"
     },
     "output_type": "display_data"
    }
   ],
   "source": [
    "sns.heatmap(cor, annot=True)"
   ]
  },
  {
   "cell_type": "markdown",
   "metadata": {},
   "source": [
    "---"
   ]
  },
  {
   "cell_type": "markdown",
   "metadata": {},
   "source": [
    "#### what I'm going to do is  plot suicide based on age groups from youngest to oldest, and see which age group is  most likely to commit suicide regardless of generation and economic factors"
   ]
  },
  {
   "cell_type": "code",
   "execution_count": 189,
   "metadata": {},
   "outputs": [
    {
     "data": {
      "image/png": "[encoded data removed]",
      "text/plain": [
       "<Figure size 432x288 with 1 Axes>"
      ]
     },
     "metadata": {
      "needs_background": "light"
     },
     "output_type": "display_data"
    }
   ],
   "source": [
    "bar = sns.barplot(x='age',y='suicides_no', data=sa_df,\n",
    "                  order=['5-14 years','15-24 years','25-34 years','35-54 years','55-74 years','75+ years'],\n",
    "                  hue='sex', palette= 'dark')\n",
    "\n",
    "bar.set(xlabel='Age groups', ylabel='Nuber of Suicides Reported',\n",
    "        title='Number of Suicides per Age Group in South Africa from 1987-2015')\n",
    "plt.xticks(rotation=45)\n",
    "sns.set()\n"
   ]
  },
  {
   "cell_type": "markdown",
   "metadata": {},
   "source": [
    "#### These results are pretty shocking if I do say so myself. Not only because kids between the ages of 5 - 14 feel the need to take their own lives, but in every single age group, South African males are committing suicide far more than women are. which poses the question, why are men committing suicide so often? The economy has nothing to do it. Is it perhaps a mental health issue? External pressure? does ethnicity or cultural upbringing play a role? Religion maybe?\n",
    "\n",
    "#### Unfortunately, this particular dataset is way too limited for me to be able to answer these questions effectively. but for now, all I can say with certainty is that men are far more likely to commit suicide than women are.\n",
    "\n",
    "#### I think it's safe to assume that Generation Z makes up most of the data between the ages of 5 - 24, but as young as this generation is, it's already surpassed and almost doubled the suicide numbers of the GI generation as a whole. Bear in mind that most of the children of this generation are yet to enter the prime ages of suicide which seem to be somewhere between 25 - 55, and their predecessors the Millenials, aren't doing so well either. Millennials are leading the charts, and a significant portion of them are in their early 30's and mid to late 20's, so the numbers will surely rise with time. Whats happening in South Africa?#### what I'm going to do is  plot suicide based on age groups from youngest to oldest, and see which age group is  most likely to commit suicide regardless of generation and economic factors"
   ]
  },
  {
   "cell_type": "code",
   "execution_count": 190,
   "metadata": {},
   "outputs": [
    {
     "data": {
      "text/plain": [
       "[Text(0.5, 1.0, 'Generational Suicide')]"
      ]
     },
     "execution_count": 190,
     "metadata": {},
     "output_type": "execute_result"
    },
    {
     "data": {
      "image/png": "[encoded data removed]",
      "text/plain": [
       "<Figure size 1080x360 with 1 Axes>"
      ]
     },
     "metadata": {},
     "output_type": "display_data"
    }
   ],
   "source": [
    "plt.figure(figsize=(15,5))\n",
    "comb = sa_df['generation']\n",
    "vis =sns.countplot(comb,label='generation',order=['G.I. Generation','Silent',\n",
    "             'Boomers','Generation X','Millenials','Generation Z'], palette='bright')\n",
    "\n",
    "vis.set(title='Generational Suicide')"
   ]
  },
  {
   "cell_type": "markdown",
   "metadata": {},
   "source": [
    "#### Now what kind of Millenial would I be if I didn't selfishly dive a little deeper into my own generation for some extra insight."
   ]
  },
  {
   "cell_type": "code",
   "execution_count": 191,
   "metadata": {},
   "outputs": [],
   "source": [
    "sa_dfmil = sa_df.loc[sa_df['generation']=='Millenials']\n",
    "sa_dfmil.reset_index(drop=True,inplace=True)"
   ]
  },
  {
   "cell_type": "code",
   "execution_count": 192,
   "metadata": {},
   "outputs": [
    {
     "data": {
      "text/html": [
       "<div>\n",
       "<style scoped>\n",
       "    .dataframe tbody tr th:only-of-type {\n",
       "        vertical-align: middle;\n",
       "    }\n",
       "\n",
       "    .dataframe tbody tr th {\n",
       "        vertical-align: top;\n",
       "    }\n",
       "\n",
       "    .dataframe thead th {\n",
       "        text-align: right;\n",
       "    }\n",
       "</style>\n",
       "<table border=\"1\" class=\"dataframe\">\n",
       "  <thead>\n",
       "    <tr style=\"text-align: right;\">\n",
       "      <th></th>\n",
       "      <th>country</th>\n",
       "      <th>year</th>\n",
       "      <th>sex</th>\n",
       "      <th>age</th>\n",
       "      <th>suicides_no</th>\n",
       "      <th>population</th>\n",
       "      <th>suicides/100k pop</th>\n",
       "      <th>country-year</th>\n",
       "      <th>gdp_for_year ($)</th>\n",
       "      <th>gdp_per_capita ($)</th>\n",
       "      <th>generation</th>\n",
       "    </tr>\n",
       "  </thead>\n",
       "  <tbody>\n",
       "    <tr>\n",
       "      <th>57</th>\n",
       "      <td>South Africa</td>\n",
       "      <td>2014</td>\n",
       "      <td>female</td>\n",
       "      <td>25-34 years</td>\n",
       "      <td>32</td>\n",
       "      <td>4747193</td>\n",
       "      <td>0.67</td>\n",
       "      <td>South Africa2014</td>\n",
       "      <td>350,904,575,292</td>\n",
       "      <td>7174</td>\n",
       "      <td>Millenials</td>\n",
       "    </tr>\n",
       "    <tr>\n",
       "      <th>58</th>\n",
       "      <td>South Africa</td>\n",
       "      <td>2015</td>\n",
       "      <td>male</td>\n",
       "      <td>25-34 years</td>\n",
       "      <td>126</td>\n",
       "      <td>5001052</td>\n",
       "      <td>2.52</td>\n",
       "      <td>South Africa2015</td>\n",
       "      <td>317,741,039,198</td>\n",
       "      <td>6403</td>\n",
       "      <td>Millenials</td>\n",
       "    </tr>\n",
       "    <tr>\n",
       "      <th>59</th>\n",
       "      <td>South Africa</td>\n",
       "      <td>2015</td>\n",
       "      <td>male</td>\n",
       "      <td>15-24 years</td>\n",
       "      <td>90</td>\n",
       "      <td>5190482</td>\n",
       "      <td>1.73</td>\n",
       "      <td>South Africa2015</td>\n",
       "      <td>317,741,039,198</td>\n",
       "      <td>6403</td>\n",
       "      <td>Millenials</td>\n",
       "    </tr>\n",
       "    <tr>\n",
       "      <th>60</th>\n",
       "      <td>South Africa</td>\n",
       "      <td>2015</td>\n",
       "      <td>female</td>\n",
       "      <td>15-24 years</td>\n",
       "      <td>34</td>\n",
       "      <td>5105930</td>\n",
       "      <td>0.67</td>\n",
       "      <td>South Africa2015</td>\n",
       "      <td>317,741,039,198</td>\n",
       "      <td>6403</td>\n",
       "      <td>Millenials</td>\n",
       "    </tr>\n",
       "    <tr>\n",
       "      <th>61</th>\n",
       "      <td>South Africa</td>\n",
       "      <td>2015</td>\n",
       "      <td>female</td>\n",
       "      <td>25-34 years</td>\n",
       "      <td>27</td>\n",
       "      <td>4822164</td>\n",
       "      <td>0.56</td>\n",
       "      <td>South Africa2015</td>\n",
       "      <td>317,741,039,198</td>\n",
       "      <td>6403</td>\n",
       "      <td>Millenials</td>\n",
       "    </tr>\n",
       "  </tbody>\n",
       "</table>\n",
       "</div>"
      ],
      "text/plain": [
       "         country  year     sex          age  suicides_no  population  \\\n",
       "57  South Africa  2014  female  25-34 years           32     4747193   \n",
       "58  South Africa  2015    male  25-34 years          126     5001052   \n",
       "59  South Africa  2015    male  15-24 years           90     5190482   \n",
       "60  South Africa  2015  female  15-24 years           34     5105930   \n",
       "61  South Africa  2015  female  25-34 years           27     4822164   \n",
       "\n",
       "    suicides/100k pop      country-year  gdp_for_year ($)   \\\n",
       "57               0.67  South Africa2014    350,904,575,292   \n",
       "58               2.52  South Africa2015    317,741,039,198   \n",
       "59               1.73  South Africa2015    317,741,039,198   \n",
       "60               0.67  South Africa2015    317,741,039,198   \n",
       "61               0.56  South Africa2015    317,741,039,198   \n",
       "\n",
       "    gdp_per_capita ($)  generation  \n",
       "57                7174  Millenials  \n",
       "58                6403  Millenials  \n",
       "59                6403  Millenials  \n",
       "60                6403  Millenials  \n",
       "61                6403  Millenials  "
      ]
     },
     "execution_count": 192,
     "metadata": {},
     "output_type": "execute_result"
    }
   ],
   "source": [
    "sa_dfmil.tail()"
   ]
  },
  {
   "cell_type": "code",
   "execution_count": 193,
   "metadata": {},
   "outputs": [
    {
     "data": {
      "text/plain": [
       "<seaborn.axisgrid.FacetGrid at 0x7fc349f70400>"
      ]
     },
     "execution_count": 193,
     "metadata": {},
     "output_type": "execute_result"
    },
    {
     "data": {
      "image/png": "[encoded data removed]",
      "text/plain": [
       "<Figure size 437.975x360 with 1 Axes>"
      ]
     },
     "metadata": {},
     "output_type": "display_data"
    }
   ],
   "source": [
    "mill = sns.catplot(x='age', y='suicides/100k pop', data=sa_dfmil, \n",
    "                   kind='bar', hue='sex',palette=\"bright\")\n",
    "\n",
    "mill.set(title= 'Millenial Suicides per 100k People')"
   ]
  },
  {
   "cell_type": "markdown",
   "metadata": {},
   "source": [
    "#### The men still show no sign of slowing the trend. "
   ]
  },
  {
   "cell_type": "markdown",
   "metadata": {},
   "source": [
    "---"
   ]
  },
  {
   "cell_type": "markdown",
   "metadata": {},
   "source": [
    "#### You'd hope it's just a South African thin right...wrong, it looks like all over the world, at least in the 101 countries observed, men are committing suicide far more than women are, and shockingly, 75+-year-old men alone commit suicide more than all the female of all the generations put together! "
   ]
  },
  {
   "cell_type": "code",
   "execution_count": 194,
   "metadata": {},
   "outputs": [
    {
     "data": {
      "image/png": "[encoded data removed]",
      "text/plain": [
       "<Figure size 465.225x360 with 1 Axes>"
      ]
     },
     "metadata": {},
     "output_type": "display_data"
    }
   ],
   "source": [
    "world = sns.catplot(x='sex', y='suicides/100k pop', data=df, kind='bar', hue='age',palette=\"bright\")"
   ]
  },
  {
   "cell_type": "markdown",
   "metadata": {},
   "source": [
    "### Thank you for taking the time to go through my findings, and please don't hesitate to give feedback."
   ]
  },
  {
   "cell_type": "code",
   "execution_count": null,
   "metadata": {},
   "outputs": [],
   "source": []
  }
 ],
 "metadata": {
  "kernelspec": {
   "display_name": "Python 3",
   "language": "python",
   "name": "python3"
  },
  "language_info": {
   "codemirror_mode": {
    "name": "ipython",
    "version": 3
   },
   "file_extension": ".py",
   "mimetype": "text/x-python",
   "name": "python",
   "nbconvert_exporter": "python",
   "pygments_lexer": "ipython3",
   "version": "3.7.3"
  }
 },
 "nbformat": 4,
 "nbformat_minor": 2
}
